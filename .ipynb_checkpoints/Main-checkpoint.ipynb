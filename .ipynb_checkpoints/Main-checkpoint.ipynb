{
 "cells": [
  {
   "cell_type": "code",
   "execution_count": 1,
   "id": "88191e1b",
   "metadata": {},
   "outputs": [],
   "source": [
    "from RiotAPI import RiotAPI\n",
    "from RiotParser import RiotParser\n",
    "import RiotConsts as Consts\n",
    "import time\n",
    "\n",
    "def create_csv(api, summonerName):\n",
    "\n",
    "    count = 0\n",
    "    matchDataList = []\n",
    "    num = 7 # represents number of 98 list of game data requests for this player (7*98 = 686 games will be parsed)\n",
    "    for i in range(num):\n",
    "        matchDataList.append(api.get_matchDataList_by_account(summonerName, count * 98, (count + 1) * 98))\n",
    "        count += 1\n",
    "\n",
    "        if i != num - 1:\n",
    "            time.sleep(121)\n",
    "\n",
    "    parser = RiotParser(matchDataList[0], summonerName)\n",
    "    parsedDf = parser.parseData()\n",
    "\n",
    "    for i in range (1, num):\n",
    "        parser = RiotParser(matchDataList[i], summonerName)\n",
    "        newParsedDf = parser.parseData()\n",
    "        result = parsedDf.append(newParsedDf)\n",
    "        parsedDf = result\n",
    "\n",
    "    print(parsedDf)\n",
    "    parsedDf.to_csv(summonerName + '.csv', mode='w')\n",
    "\n",
    "    print('File Successfully Created: ' + summonerName + '.csv')\n",
    "    time.sleep(121)"
   ]
  },
  {
   "cell_type": "code",
   "execution_count": 2,
   "id": "c327d423",
   "metadata": {},
   "outputs": [],
   "source": [
    "\n",
    "apikey = Consts.API_KEY['apikey']  # API KEY IS HERE\n",
    "api = RiotAPI(apikey)\n",
    "\n",
    "summonerNames = ['Controleed Freak', 'Ender Dragon 3', 'cyrs7', 'Belox']\n"
   ]
  },
  {
   "cell_type": "code",
   "execution_count": 3,
   "id": "0a242e74",
   "metadata": {},
   "outputs": [
    {
     "name": "stdout",
     "output_type": "stream",
     "text": [
      "             Summoner Name  Game Duration Match Result  Champion ID  \\\n",
      "Match 1   Controleed Freak           1605       Defeat           81   \n",
      "Match 2   Controleed Freak            936       Defeat           92   \n",
      "Match 3   Controleed Freak           2065      Victory           92   \n",
      "Match 4   Controleed Freak           1186      Victory           92   \n",
      "Match 5   Controleed Freak           1616       Defeat          777   \n",
      "...                    ...            ...          ...          ...   \n",
      "Match 53  Controleed Freak           1027      Victory           92   \n",
      "Match 54  Controleed Freak           1319      Victory          360   \n",
      "Match 55  Controleed Freak           1356      Victory          157   \n",
      "Match 56  Controleed Freak           1441      Victory          266   \n",
      "Match 57  Controleed Freak           1943       Defeat           86   \n",
      "\n",
      "          Creep Score  Gold Earned  Champion Level  Vision Score  \n",
      "Match 1           173         9753              12            16  \n",
      "Match 2            77         3861               8             5  \n",
      "Match 3           181        13134              18            23  \n",
      "Match 4           114         8076              12            11  \n",
      "Match 5           191         9532              15            17  \n",
      "...               ...          ...             ...           ...  \n",
      "Match 53          151         8353              12             4  \n",
      "Match 54          123        11446              12            20  \n",
      "Match 55          169        12144              15            16  \n",
      "Match 56          154        12476              15             5  \n",
      "Match 57          173        13150              15            28  \n",
      "\n",
      "[394 rows x 8 columns]\n",
      "File Successfully Created: Controleed Freak.csv\n"
     ]
    }
   ],
   "source": [
    "create_csv(api, summonerNames[0])"
   ]
  },
  {
   "cell_type": "code",
   "execution_count": 4,
   "id": "c3b48292",
   "metadata": {},
   "outputs": [
    {
     "name": "stdout",
     "output_type": "stream",
     "text": [
      "           Summoner Name  Game Duration Match Result  Champion ID  \\\n",
      "Match 1   Ender Dragon 3           1605       Defeat          157   \n",
      "Match 2   Ender Dragon 3            936       Defeat          157   \n",
      "Match 3   Ender Dragon 3           1186      Victory          104   \n",
      "Match 4   Ender Dragon 3           1616       Defeat          157   \n",
      "Match 5   Ender Dragon 3           1767      Victory          157   \n",
      "...                  ...            ...          ...          ...   \n",
      "Match 70  Ender Dragon 3           2124      Victory           59   \n",
      "Match 71  Ender Dragon 3           1381      Victory          104   \n",
      "Match 72  Ender Dragon 3           2692       Defeat          104   \n",
      "Match 73  Ender Dragon 3           1717       Defeat          104   \n",
      "Match 74  Ender Dragon 3           1953       Defeat          104   \n",
      "\n",
      "          Creep Score  Gold Earned  Champion Level  Vision Score  \n",
      "Match 1           169         9547              14            13  \n",
      "Match 2           107         4682               9             4  \n",
      "Match 3            19         7149              12            10  \n",
      "Match 4           164         9920              14            14  \n",
      "Match 5           213        15218              17            10  \n",
      "...               ...          ...             ...           ...  \n",
      "Match 70           35        15114              18            24  \n",
      "Match 71           31        14658              16            20  \n",
      "Match 72           70        17752              18            30  \n",
      "Match 73           32        12751              16            14  \n",
      "Match 74           74        12745              15            31  \n",
      "\n",
      "[507 rows x 8 columns]\n",
      "File Successfully Created: Ender Dragon 3.csv\n"
     ]
    }
   ],
   "source": [
    "create_csv(api, summonerNames[1])"
   ]
  },
  {
   "cell_type": "code",
   "execution_count": 5,
   "id": "fc948318",
   "metadata": {},
   "outputs": [
    {
     "name": "stdout",
     "output_type": "stream",
     "text": [
      "         Summoner Name  Game Duration Match Result  Champion ID  Creep Score  \\\n",
      "Match 1          cyrs7           1418      Victory          147           24   \n",
      "Match 2          cyrs7           2005      Victory           40           14   \n",
      "Match 3          cyrs7           1366       Defeat           32           17   \n",
      "Match 4          cyrs7           1520      Victory          117          103   \n",
      "Match 5          cyrs7           1552       Defeat           82          102   \n",
      "...                ...            ...          ...          ...          ...   \n",
      "Match 87         cyrs7           1583       Defeat          267           13   \n",
      "Match 88         cyrs7           2041      Victory           40           23   \n",
      "Match 89         cyrs7           2329      Victory           40           27   \n",
      "Match 90         cyrs7           1696      Victory           40           10   \n",
      "Match 91         cyrs7            933      Victory          267            1   \n",
      "\n",
      "          Gold Earned  Champion Level  Vision Score  \n",
      "Match 1          8648              12            41  \n",
      "Match 2          9214              16            72  \n",
      "Match 3          6491              10            15  \n",
      "Match 4          8796              14            27  \n",
      "Match 5          7282              13            29  \n",
      "...               ...             ...           ...  \n",
      "Match 87         7109              11            47  \n",
      "Match 88         9688              15            88  \n",
      "Match 89        10515              16           101  \n",
      "Match 90         7839              13            60  \n",
      "Match 91         5751               8            22  \n",
      "\n",
      "[622 rows x 8 columns]\n",
      "File Successfully Created: cyrs7.csv\n"
     ]
    }
   ],
   "source": [
    "create_csv(api, summonerNames[2])"
   ]
  },
  {
   "cell_type": "code",
   "execution_count": 6,
   "id": "1967dfef",
   "metadata": {},
   "outputs": [
    {
     "name": "stdout",
     "output_type": "stream",
     "text": [
      "         Summoner Name  Game Duration Match Result  Champion ID  Creep Score  \\\n",
      "Match 1          Belox           2013       Defeat          234           49   \n",
      "Match 2          Belox           1567       Defeat           69           15   \n",
      "Match 3          Belox           1642       Defeat          150           48   \n",
      "Match 4          Belox           1863       Defeat          875           58   \n",
      "Match 5          Belox            911      Victory          875           12   \n",
      "...                ...            ...          ...          ...          ...   \n",
      "Match 41         Belox           1441      Victory           80           94   \n",
      "Match 42         Belox           1980       Defeat          360          144   \n",
      "Match 43         Belox           1073      Victory          777          128   \n",
      "Match 44         Belox           2380      Victory          555           36   \n",
      "Match 45         Belox           1304       Defeat           86           36   \n",
      "\n",
      "          Gold Earned  Champion Level  Vision Score  \n",
      "Match 1         18570              14             9  \n",
      "Match 2          8795              11             6  \n",
      "Match 3          8315              13            15  \n",
      "Match 4         18895              15             8  \n",
      "Match 5          7564               9             3  \n",
      "...               ...             ...           ...  \n",
      "Match 41         7317              13             7  \n",
      "Match 42        13026              15             5  \n",
      "Match 43         7464              12             7  \n",
      "Match 44        15129              16            47  \n",
      "Match 45         9194              11            12  \n",
      "\n",
      "[345 rows x 8 columns]\n",
      "File Successfully Created: Belox.csv\n"
     ]
    }
   ],
   "source": [
    "create_csv(api, summonerNames[3])"
   ]
  },
  {
   "cell_type": "code",
   "execution_count": null,
   "id": "a9909602",
   "metadata": {},
   "outputs": [],
   "source": []
  }
 ],
 "metadata": {
  "kernelspec": {
   "display_name": "Python 3",
   "language": "python",
   "name": "python3"
  },
  "language_info": {
   "codemirror_mode": {
    "name": "ipython",
    "version": 3
   },
   "file_extension": ".py",
   "mimetype": "text/x-python",
   "name": "python",
   "nbconvert_exporter": "python",
   "pygments_lexer": "ipython3",
   "version": "3.9.0"
  }
 },
 "nbformat": 4,
 "nbformat_minor": 5
}
