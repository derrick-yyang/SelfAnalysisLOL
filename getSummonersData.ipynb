{
 "cells": [
  {
   "cell_type": "code",
   "execution_count": 1,
   "id": "88191e1b",
   "metadata": {},
   "outputs": [],
   "source": [
    "from RiotAPI import RiotAPI\n",
    "from RiotParser import RiotParser\n",
    "import RiotConsts as Consts\n",
    "import pandas as pd\n",
    "import time\n",
    "import numpy as np\n",
    "import matplotlib.pyplot as plt\n",
    "import seaborn as sb\n",
    "\n",
    "# create_csv() returns a dataframe of summonerName using api and parser while simultaneously generating a .csv file for the \n",
    "#    dataframe.\n",
    "def create_csv(api, parser, summonerName):\n",
    "\n",
    "    count = 0\n",
    "    matchDataList = []\n",
    "    num = 7 # represents number of 98 list of game data requests for this player (7*98 = 686 games will be parsed)\n",
    "    for i in range(num):\n",
    "        matchDataList = matchDataList + api.get_matchDataList_by_account(summonerName, count * 98, (count + 1) * 98)\n",
    "        count += 1\n",
    "\n",
    "        if i != num - 1:\n",
    "            time.sleep(121)\n",
    "\n",
    "    parsedDf = parser.parseData(matchDataList)\n",
    "\n",
    "    print(parsedDf)\n",
    "    parsedDf.to_csv(summonerName + '.csv', mode='w')\n",
    "\n",
    "    print('File Successfully Created: ' + summonerName + '.csv')\n",
    "    time.sleep(121)\n",
    "    \n",
    "    return parsedDf"
   ]
  },
  {
   "cell_type": "markdown",
   "id": "1b95e0bb",
   "metadata": {},
   "source": [
    "## The following code intializes the api object and contains a list of summoners"
   ]
  },
  {
   "cell_type": "code",
   "execution_count": 8,
   "id": "c327d423",
   "metadata": {},
   "outputs": [],
   "source": [
    "apikey = Consts.API_KEY['apikey']  # API KEY IS HERE\n",
    "api = RiotAPI(apikey)\n",
    "\n",
    "summonerNames = ['Controleed Freak', 'Ender Dragon 3', 'cyrs7', 'Belox', 'TF Blade', 'Adrian Riven']"
   ]
  },
  {
   "cell_type": "markdown",
   "id": "8b7a1415",
   "metadata": {},
   "source": [
    "## The next following cells are .csv file creation cells.\n",
    "**Note**: The Match Number in the Row Label **does not** correlate to the match number. **For total matches, look at # of Rows**"
   ]
  },
  {
   "cell_type": "code",
   "execution_count": 16,
   "id": "0a242e74",
   "metadata": {},
   "outputs": [
    {
     "name": "stdout",
     "output_type": "stream",
     "text": [
      "             Summoner Name  Game Duration Match Result  Champion ID  \\\n",
      "Match 1   Controleed Freak           1495      Victory           92   \n",
      "Match 2   Controleed Freak           1058       Defeat          107   \n",
      "Match 3   Controleed Freak           2022      Victory          157   \n",
      "Match 4   Controleed Freak            959      Victory          110   \n",
      "Match 5   Controleed Freak           1605       Defeat           81   \n",
      "...                    ...            ...          ...          ...   \n",
      "Match 52  Controleed Freak           1356       Defeat           92   \n",
      "Match 53  Controleed Freak           2692       Defeat          145   \n",
      "Match 54  Controleed Freak           1717       Defeat          114   \n",
      "Match 55  Controleed Freak           2016      Victory          238   \n",
      "Match 56  Controleed Freak           1027      Victory           92   \n",
      "\n",
      "          Creep Score  Gold Earned  Champion Level  Vision Score  \n",
      "Match 1           143        11195              14            12  \n",
      "Match 2             9         7439              10            14  \n",
      "Match 3           245        17785              18            27  \n",
      "Match 4           111        10178              11             4  \n",
      "Match 5           173         9753              12            16  \n",
      "...               ...          ...             ...           ...  \n",
      "Match 52          122         6634              11            12  \n",
      "Match 53          184        18580              18            21  \n",
      "Match 54          190        11800              16            15  \n",
      "Match 55          242        18681              18            21  \n",
      "Match 56          151         8353              12             4  \n",
      "\n",
      "[395 rows x 8 columns]\n",
      "File Successfully Created: Controleed Freak.csv\n"
     ]
    }
   ],
   "source": [
    "parser = RiotParser(summonerNames[0])\n",
    "P1Dataframe = create_csv(api, parser, summonerNames[0])"
   ]
  },
  {
   "cell_type": "code",
   "execution_count": 4,
   "id": "4b3d2bdf",
   "metadata": {
    "scrolled": false
   },
   "outputs": [
    {
     "name": "stdout",
     "output_type": "stream",
     "text": [
      "           Summoner Name  Game Duration Match Result  Champion ID  \\\n",
      "Match 1   Ender Dragon 3           1605       Defeat          157   \n",
      "Match 2   Ender Dragon 3            936       Defeat          157   \n",
      "Match 3   Ender Dragon 3           1186      Victory          104   \n",
      "Match 4   Ender Dragon 3           1616       Defeat          157   \n",
      "Match 5   Ender Dragon 3           1767      Victory          157   \n",
      "...                  ...            ...          ...          ...   \n",
      "Match 71  Ender Dragon 3           2124      Victory           59   \n",
      "Match 72  Ender Dragon 3           1381      Victory          104   \n",
      "Match 73  Ender Dragon 3           2692       Defeat          104   \n",
      "Match 74  Ender Dragon 3           1717       Defeat          104   \n",
      "Match 75  Ender Dragon 3           1953       Defeat          104   \n",
      "\n",
      "          Creep Score  Gold Earned  Champion Level  Vision Score  \n",
      "Match 1           169         9547              14            13  \n",
      "Match 2           107         4682               9             4  \n",
      "Match 3            19         7149              12            10  \n",
      "Match 4           164         9920              14            14  \n",
      "Match 5           213        15218              17            10  \n",
      "...               ...          ...             ...           ...  \n",
      "Match 71           35        15114              18            24  \n",
      "Match 72           31        14658              16            20  \n",
      "Match 73           70        17752              18            30  \n",
      "Match 74           32        12751              16            14  \n",
      "Match 75           74        12745              15            31  \n",
      "\n",
      "[508 rows x 8 columns]\n",
      "File Successfully Created: Ender Dragon 3.csv\n"
     ]
    }
   ],
   "source": [
    "parser = RiotParser(summonerNames[1])\n",
    "P2Dataframe = create_csv(api, parser, summonerNames[1])"
   ]
  },
  {
   "cell_type": "code",
   "execution_count": 5,
   "id": "f847c87d",
   "metadata": {},
   "outputs": [
    {
     "name": "stdout",
     "output_type": "stream",
     "text": [
      "         Summoner Name  Game Duration Match Result  Champion ID  Creep Score  \\\n",
      "Match 1          cyrs7           1418      Victory          147           24   \n",
      "Match 2          cyrs7           2005      Victory           40           14   \n",
      "Match 3          cyrs7           1366       Defeat           32           17   \n",
      "Match 4          cyrs7           1520      Victory          117          103   \n",
      "Match 5          cyrs7           1552       Defeat           82          102   \n",
      "...                ...            ...          ...          ...          ...   \n",
      "Match 87         cyrs7           1583       Defeat          267           13   \n",
      "Match 88         cyrs7           2041      Victory           40           23   \n",
      "Match 89         cyrs7           2329      Victory           40           27   \n",
      "Match 90         cyrs7           1696      Victory           40           10   \n",
      "Match 91         cyrs7            933      Victory          267            1   \n",
      "\n",
      "          Gold Earned  Champion Level  Vision Score  \n",
      "Match 1          8648              12            41  \n",
      "Match 2          9214              16            72  \n",
      "Match 3          6491              10            15  \n",
      "Match 4          8796              14            27  \n",
      "Match 5          7282              13            29  \n",
      "...               ...             ...           ...  \n",
      "Match 87         7109              11            47  \n",
      "Match 88         9688              15            88  \n",
      "Match 89        10515              16           101  \n",
      "Match 90         7839              13            60  \n",
      "Match 91         5751               8            22  \n",
      "\n",
      "[622 rows x 8 columns]\n",
      "File Successfully Created: cyrs7.csv\n"
     ]
    }
   ],
   "source": [
    "parser = RiotParser(summonerNames[2])\n",
    "P3Dataframe = create_csv(api, parser, summonerNames[2])"
   ]
  },
  {
   "cell_type": "code",
   "execution_count": 6,
   "id": "dfe1a720",
   "metadata": {},
   "outputs": [
    {
     "name": "stdout",
     "output_type": "stream",
     "text": [
      "         Summoner Name  Game Duration Match Result  Champion ID  Creep Score  \\\n",
      "Match 1          Belox           1495      Victory           58           21   \n",
      "Match 2          Belox           1058       Defeat            4           16   \n",
      "Match 3          Belox           2022      Victory            4           32   \n",
      "Match 4          Belox            959      Victory          875           18   \n",
      "Match 5          Belox           2013       Defeat          234           49   \n",
      "...                ...            ...          ...          ...          ...   \n",
      "Match 46         Belox           1441      Victory           80           94   \n",
      "Match 47         Belox           1980       Defeat          360          144   \n",
      "Match 48         Belox           1073      Victory          777          128   \n",
      "Match 49         Belox           2380      Victory          555           36   \n",
      "Match 50         Belox           1304       Defeat           86           36   \n",
      "\n",
      "          Gold Earned  Champion Level  Vision Score  \n",
      "Match 1          7853              11            14  \n",
      "Match 2          4840               8             7  \n",
      "Match 3          9750              14            16  \n",
      "Match 4          9765              10             8  \n",
      "Match 5         18570              14             9  \n",
      "...               ...             ...           ...  \n",
      "Match 46         7317              13             7  \n",
      "Match 47        13026              15             5  \n",
      "Match 48         7464              12             7  \n",
      "Match 49        15129              16            47  \n",
      "Match 50         9194              11            12  \n",
      "\n",
      "[351 rows x 8 columns]\n",
      "File Successfully Created: Belox.csv\n"
     ]
    }
   ],
   "source": [
    "parser = RiotParser(summonerNames[3])\n",
    "P4Dataframe = create_csv(api, parser, summonerNames[3])"
   ]
  },
  {
   "cell_type": "code",
   "execution_count": 9,
   "id": "cd3922c8",
   "metadata": {},
   "outputs": [
    {
     "name": "stdout",
     "output_type": "stream",
     "text": [
      "         Summoner Name  Game Duration Match Result  Champion ID  Creep Score  \\\n",
      "Match 1       TF Blade           1255      Victory           39          181   \n",
      "Match 2       TF Blade           1336      Victory           39          190   \n",
      "Match 3       TF Blade           1702      Victory           39          272   \n",
      "Match 4       TF Blade           1801       Defeat           79          185   \n",
      "Match 5       TF Blade           1350       Defeat            2           20   \n",
      "...                ...            ...          ...          ...          ...   \n",
      "Match 94      TF Blade           1211      Victory           24          183   \n",
      "Match 95      TF Blade           2093       Defeat           39          270   \n",
      "Match 96      TF Blade           1522      Victory           24          186   \n",
      "Match 97      TF Blade           1597      Victory           24          213   \n",
      "Match 98      TF Blade            748      Victory           24           72   \n",
      "\n",
      "          Gold Earned  Champion Level  Vision Score  \n",
      "Match 1         11710              14            21  \n",
      "Match 2          9933              13             9  \n",
      "Match 3         16015              17            28  \n",
      "Match 4          9167              15            20  \n",
      "Match 5          7458              12            23  \n",
      "...               ...             ...           ...  \n",
      "Match 94        10872              14             9  \n",
      "Match 95        15349              18            23  \n",
      "Match 96        13149              16            10  \n",
      "Match 97        10860              15            17  \n",
      "Match 98         5924               9            13  \n",
      "\n",
      "[681 rows x 8 columns]\n",
      "File Successfully Created: TF Blade.csv\n"
     ]
    }
   ],
   "source": [
    "parser = RiotParser(summonerNames[4])\n",
    "P5Dataframe = create_csv(api, parser, summonerNames[4])"
   ]
  },
  {
   "cell_type": "code",
   "execution_count": 10,
   "id": "60ca31b3",
   "metadata": {},
   "outputs": [
    {
     "name": "stdout",
     "output_type": "stream",
     "text": [
      "         Summoner Name  Game Duration Match Result  Champion ID  Creep Score  \\\n",
      "Match 1   Adrian Riven           1827       Defeat            2          160   \n",
      "Match 2   Adrian Riven           1769      Victory           86          148   \n",
      "Match 3   Adrian Riven           1281      Victory            2          107   \n",
      "Match 4   Adrian Riven           1113       Defeat          887           91   \n",
      "Match 5   Adrian Riven           1832       Defeat           64          173   \n",
      "...                ...            ...          ...          ...          ...   \n",
      "Match 92  Adrian Riven           1560      Victory           92          185   \n",
      "Match 93  Adrian Riven           1887      Victory           92          194   \n",
      "Match 94  Adrian Riven           1751       Defeat           92          159   \n",
      "Match 95  Adrian Riven           1868      Victory          114          200   \n",
      "Match 96  Adrian Riven           1516      Victory          126          181   \n",
      "\n",
      "          Gold Earned  Champion Level  Vision Score  \n",
      "Match 1          9096              14            13  \n",
      "Match 2         12111              16            14  \n",
      "Match 3          5931              11             8  \n",
      "Match 4          4667              10             5  \n",
      "Match 5          9484              14            16  \n",
      "...               ...             ...           ...  \n",
      "Match 92        13962              16            14  \n",
      "Match 93        14234              16            12  \n",
      "Match 94        10999              14            15  \n",
      "Match 95        15994              18            13  \n",
      "Match 96        14381              15            18  \n",
      "\n",
      "[665 rows x 8 columns]\n",
      "File Successfully Created: Adrian Riven.csv\n"
     ]
    }
   ],
   "source": [
    "parser = RiotParser(summonerNames[5])\n",
    "P6Dataframe = create_csv(api, parser, summonerNames[5])"
   ]
  },
  {
   "cell_type": "code",
   "execution_count": null,
   "id": "bfc33624",
   "metadata": {},
   "outputs": [],
   "source": []
  }
 ],
 "metadata": {
  "kernelspec": {
   "display_name": "Python 3",
   "language": "python",
   "name": "python3"
  },
  "language_info": {
   "codemirror_mode": {
    "name": "ipython",
    "version": 3
   },
   "file_extension": ".py",
   "mimetype": "text/x-python",
   "name": "python",
   "nbconvert_exporter": "python",
   "pygments_lexer": "ipython3",
   "version": "3.9.0"
  }
 },
 "nbformat": 4,
 "nbformat_minor": 5
}
