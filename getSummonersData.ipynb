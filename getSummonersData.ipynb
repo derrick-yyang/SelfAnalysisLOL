{
 "cells": [
  {
   "cell_type": "code",
   "execution_count": 1,
   "id": "88191e1b",
   "metadata": {},
   "outputs": [],
   "source": [
    "from RiotAPI import RiotAPI\n",
    "from RiotParser import RiotParser\n",
    "import RiotConsts as Consts\n",
    "import pandas as pd\n",
    "import time\n",
    "import numpy as np\n",
    "import matplotlib.pyplot as plt\n",
    "import seaborn as sb\n",
    "\n",
    "# create_csv() returns a dataframe of summonerName using api and parser while simultaneously generating a .csv file for the \n",
    "#    dataframe.\n",
    "def create_csv(api, parser, summonerName):\n",
    "\n",
    "    count = 0\n",
    "    matchDataList = []\n",
    "    num = 7 # represents number of 98 list of game data requests for this player (7*98 = 686 games will be parsed)\n",
    "    for i in range(num):\n",
    "        matchDataList = matchDataList + api.get_matchDataList_by_account(summonerName, count * 98, (count + 1) * 98)\n",
    "        count += 1\n",
    "\n",
    "        if i != num - 1:\n",
    "            time.sleep(121)\n",
    "\n",
    "    parsedDf = parser.parseData(matchDataList)\n",
    "\n",
    "    print(parsedDf)\n",
    "    parsedDf.to_csv(summonerName + '.csv', mode='w')\n",
    "\n",
    "    print('File Successfully Created: ' + summonerName + '.csv')\n",
    "    time.sleep(121)\n",
    "    \n",
    "    return parsedDf"
   ]
  },
  {
   "cell_type": "markdown",
   "id": "1b95e0bb",
   "metadata": {},
   "source": [
    "## The following code intializes the api object and contains a list of summoners"
   ]
  },
  {
   "cell_type": "code",
   "execution_count": 2,
   "id": "c327d423",
   "metadata": {},
   "outputs": [],
   "source": [
    "apikey = Consts.API_KEY['apikey']  # API KEY IS HERE\n",
    "api = RiotAPI(apikey)\n",
    "\n",
    "summonerNames = ['Controleed Freak', 'Ender Dragon 3', 'cyrs7', 'Belox', 'TF Blade', 'Adrian Riven']"
   ]
  },
  {
   "cell_type": "markdown",
   "id": "8b7a1415",
   "metadata": {},
   "source": [
    "## The next following cells are .csv file creation cells.\n",
    "**Note**: The smaller Match Number in the Row Labels means the more recent the game is."
   ]
  },
  {
   "cell_type": "code",
   "execution_count": 3,
   "id": "0a242e74",
   "metadata": {},
   "outputs": [
    {
     "name": "stdout",
     "output_type": "stream",
     "text": [
      "              Summoner Name  Game Duration Match Result  Champion ID  \\\n",
      "Match 1    Controleed Freak           1935       Defeat          107   \n",
      "Match 2    Controleed Freak           1879       Defeat           41   \n",
      "Match 3    Controleed Freak           1926       Defeat           92   \n",
      "Match 4    Controleed Freak           1691       Defeat           92   \n",
      "Match 5    Controleed Freak           2157      Victory           77   \n",
      "...                     ...            ...          ...          ...   \n",
      "Match 394  Controleed Freak           1280      Victory          238   \n",
      "Match 395  Controleed Freak           1338       Defeat           39   \n",
      "Match 396  Controleed Freak           1709       Defeat           67   \n",
      "Match 397  Controleed Freak           1586      Victory          245   \n",
      "Match 398  Controleed Freak           1356       Defeat           92   \n",
      "\n",
      "           Creep Score  Gold Earned  Champion Level  Vision Score  \n",
      "Match 1             41        13154              15            24  \n",
      "Match 2            196        13199              17            26  \n",
      "Match 3            210        14906              17            22  \n",
      "Match 4            178         8551              14            17  \n",
      "Match 5             47        18391              18            26  \n",
      "...                ...          ...             ...           ...  \n",
      "Match 394          166        11677              13            10  \n",
      "Match 395          150         6933              13            17  \n",
      "Match 396          168         9572              13            11  \n",
      "Match 397           39        14086              15            15  \n",
      "Match 398          122         6634              11            12  \n",
      "\n",
      "[398 rows x 8 columns]\n",
      "File Successfully Created: Controleed Freak.csv\n"
     ]
    }
   ],
   "source": [
    "parser = RiotParser(summonerNames[0])\n",
    "P1Dataframe = create_csv(api, parser, summonerNames[0])"
   ]
  },
  {
   "cell_type": "code",
   "execution_count": 4,
   "id": "4b3d2bdf",
   "metadata": {
    "scrolled": false
   },
   "outputs": [
    {
     "name": "stdout",
     "output_type": "stream",
     "text": [
      "            Summoner Name  Game Duration Match Result  Champion ID  \\\n",
      "Match 1    Ender Dragon 3           1605       Defeat          157   \n",
      "Match 2    Ender Dragon 3            936       Defeat          157   \n",
      "Match 3    Ender Dragon 3           1186      Victory          104   \n",
      "Match 4    Ender Dragon 3           1616       Defeat          157   \n",
      "Match 5    Ender Dragon 3           1767      Victory          157   \n",
      "...                   ...            ...          ...          ...   \n",
      "Match 502  Ender Dragon 3           1214      Victory          157   \n",
      "Match 503  Ender Dragon 3           2188       Defeat          157   \n",
      "Match 504  Ender Dragon 3           2124      Victory           59   \n",
      "Match 505  Ender Dragon 3           1381      Victory          104   \n",
      "Match 506  Ender Dragon 3           2692       Defeat          104   \n",
      "\n",
      "           Creep Score  Gold Earned  Champion Level  Vision Score  \n",
      "Match 1            169         9547              14            13  \n",
      "Match 2            107         4682               9             4  \n",
      "Match 3             19         7149              12            10  \n",
      "Match 4            164         9920              14            14  \n",
      "Match 5            213        15218              17            10  \n",
      "...                ...          ...             ...           ...  \n",
      "Match 502          123        10324              13            10  \n",
      "Match 503          187        13597              15            17  \n",
      "Match 504           35        15114              18            24  \n",
      "Match 505           31        14658              16            20  \n",
      "Match 506           70        17752              18            30  \n",
      "\n",
      "[506 rows x 8 columns]\n",
      "File Successfully Created: Ender Dragon 3.csv\n"
     ]
    }
   ],
   "source": [
    "parser = RiotParser(summonerNames[1])\n",
    "P2Dataframe = create_csv(api, parser, summonerNames[1])"
   ]
  },
  {
   "cell_type": "code",
   "execution_count": 5,
   "id": "f847c87d",
   "metadata": {},
   "outputs": [
    {
     "name": "stdout",
     "output_type": "stream",
     "text": [
      "          Summoner Name  Game Duration Match Result  Champion ID  Creep Score  \\\n",
      "Match 1           cyrs7           1935       Defeat          117           27   \n",
      "Match 2           cyrs7           1879       Defeat          147           53   \n",
      "Match 3           cyrs7           1926       Defeat           40           23   \n",
      "Match 4           cyrs7           1711      Victory          147           41   \n",
      "Match 5           cyrs7           2141       Defeat           21          228   \n",
      "...                 ...            ...          ...          ...          ...   \n",
      "Match 618         cyrs7            927      Victory          267            5   \n",
      "Match 619         cyrs7           2293       Defeat          111           57   \n",
      "Match 620         cyrs7           1922      Victory          111           29   \n",
      "Match 621         cyrs7           1632      Victory           40           19   \n",
      "Match 622         cyrs7           1848      Victory           40           11   \n",
      "\n",
      "           Gold Earned  Champion Level  Vision Score  \n",
      "Match 1           7801              12            68  \n",
      "Match 2          10679              15            69  \n",
      "Match 3           8522              13            69  \n",
      "Match 4           8776              14            54  \n",
      "Match 5          12886              16            34  \n",
      "...                ...             ...           ...  \n",
      "Match 618         5243               8            33  \n",
      "Match 619         9206              16            83  \n",
      "Match 620         9917              14            62  \n",
      "Match 621         8008              13            56  \n",
      "Match 622        11858              14            74  \n",
      "\n",
      "[622 rows x 8 columns]\n",
      "File Successfully Created: cyrs7.csv\n"
     ]
    }
   ],
   "source": [
    "parser = RiotParser(summonerNames[2])\n",
    "P3Dataframe = create_csv(api, parser, summonerNames[2])"
   ]
  },
  {
   "cell_type": "code",
   "execution_count": 6,
   "id": "dfe1a720",
   "metadata": {},
   "outputs": [
    {
     "name": "stdout",
     "output_type": "stream",
     "text": [
      "          Summoner Name  Game Duration Match Result  Champion ID  Creep Score  \\\n",
      "Match 1           Belox           1936      Victory          234          212   \n",
      "Match 2           Belox           1495      Victory           58           21   \n",
      "Match 3           Belox           1058       Defeat            4           16   \n",
      "Match 4           Belox           2022      Victory            4           32   \n",
      "Match 5           Belox            959      Victory          875           18   \n",
      "...                 ...            ...          ...          ...          ...   \n",
      "Match 347         Belox           1356      Victory          777          133   \n",
      "Match 348         Belox           1441      Victory           80           94   \n",
      "Match 349         Belox           1980       Defeat          360          144   \n",
      "Match 350         Belox           1073      Victory          777          128   \n",
      "Match 351         Belox           2380      Victory          555           36   \n",
      "\n",
      "           Gold Earned  Champion Level  Vision Score  \n",
      "Match 1          17781              18            12  \n",
      "Match 2           7853              11            14  \n",
      "Match 3           4840               8             7  \n",
      "Match 4           9750              14            16  \n",
      "Match 5           9765              10             8  \n",
      "...                ...             ...           ...  \n",
      "Match 347        11305              14             5  \n",
      "Match 348         7317              13             7  \n",
      "Match 349        13026              15             5  \n",
      "Match 350         7464              12             7  \n",
      "Match 351        15129              16            47  \n",
      "\n",
      "[351 rows x 8 columns]\n",
      "File Successfully Created: Belox.csv\n"
     ]
    }
   ],
   "source": [
    "parser = RiotParser(summonerNames[3])\n",
    "P4Dataframe = create_csv(api, parser, summonerNames[3])"
   ]
  },
  {
   "cell_type": "code",
   "execution_count": 7,
   "id": "cd3922c8",
   "metadata": {},
   "outputs": [
    {
     "name": "stdout",
     "output_type": "stream",
     "text": [
      "          Summoner Name  Game Duration Match Result  Champion ID  Creep Score  \\\n",
      "Match 1        TF Blade           1343       Defeat            8          187   \n",
      "Match 2        TF Blade           2929       Defeat           98          263   \n",
      "Match 3        TF Blade           2541      Victory           24          314   \n",
      "Match 4        TF Blade           2752       Defeat           58          330   \n",
      "Match 5        TF Blade           1706       Defeat           85          160   \n",
      "...                 ...            ...          ...          ...          ...   \n",
      "Match 675      TF Blade           1531      Victory           24          133   \n",
      "Match 676      TF Blade           1787      Victory           24          235   \n",
      "Match 677      TF Blade           1260      Victory           24          141   \n",
      "Match 678      TF Blade            957      Victory           58          130   \n",
      "Match 679      TF Blade            929      Victory           24          102   \n",
      "\n",
      "           Gold Earned  Champion Level  Vision Score  \n",
      "Match 1           8265              13            15  \n",
      "Match 2          17258              18            40  \n",
      "Match 3          20953              18            41  \n",
      "Match 4          19034              18            37  \n",
      "Match 5           9021              14            18  \n",
      "...                ...             ...           ...  \n",
      "Match 675        11099              13            27  \n",
      "Match 676        13073              17            34  \n",
      "Match 677         9541              13            11  \n",
      "Match 678         9221              12            10  \n",
      "Match 679         6043              10             7  \n",
      "\n",
      "[679 rows x 8 columns]\n",
      "File Successfully Created: TF Blade.csv\n"
     ]
    }
   ],
   "source": [
    "parser = RiotParser(summonerNames[4])\n",
    "P5Dataframe = create_csv(api, parser, summonerNames[4])"
   ]
  },
  {
   "cell_type": "code",
   "execution_count": null,
   "id": "60ca31b3",
   "metadata": {},
   "outputs": [
    {
     "name": "stdout",
     "output_type": "stream",
     "text": [
      "          Summoner Name  Game Duration Match Result  Champion ID  Creep Score  \\\n",
      "Match 1    Adrian Riven           1931       Defeat           64          159   \n",
      "Match 2    Adrian Riven            980      Victory           92          132   \n",
      "Match 3    Adrian Riven           1575       Defeat          126          169   \n",
      "Match 4    Adrian Riven           2541       Defeat           86          255   \n",
      "Match 5    Adrian Riven           1215       Defeat          223          106   \n",
      "...                 ...            ...          ...          ...          ...   \n",
      "Match 660  Adrian Riven           2583       Defeat           92          330   \n",
      "Match 661  Adrian Riven           1195      Victory           64           26   \n",
      "Match 662  Adrian Riven           1895      Victory          114          210   \n",
      "Match 663  Adrian Riven           2203       Defeat           92          212   \n",
      "Match 664  Adrian Riven           1408      Victory           92          156   \n",
      "\n",
      "           Gold Earned  Champion Level  Vision Score  \n",
      "Match 1          10642              15            14  \n",
      "Match 2           6974              11             5  \n",
      "Match 3           9281              13            27  \n",
      "Match 4          16706              18            24  \n",
      "Match 5           6734              11            16  \n",
      "...                ...             ...           ...  \n",
      "Match 660        18718              18            25  \n",
      "Match 661        11711              13            11  \n",
      "Match 662        12588              16             8  \n",
      "Match 663        14237              16            14  \n",
      "Match 664        11143              15            11  \n",
      "\n",
      "[664 rows x 8 columns]\n",
      "File Successfully Created: Adrian Riven.csv\n"
     ]
    }
   ],
   "source": [
    "parser = RiotParser(summonerNames[5])\n",
    "P6Dataframe = create_csv(api, parser, summonerNames[5])"
   ]
  },
  {
   "cell_type": "code",
   "execution_count": null,
   "id": "bfc33624",
   "metadata": {},
   "outputs": [],
   "source": []
  }
 ],
 "metadata": {
  "kernelspec": {
   "display_name": "Python 3",
   "language": "python",
   "name": "python3"
  },
  "language_info": {
   "codemirror_mode": {
    "name": "ipython",
    "version": 3
   },
   "file_extension": ".py",
   "mimetype": "text/x-python",
   "name": "python",
   "nbconvert_exporter": "python",
   "pygments_lexer": "ipython3",
   "version": "3.9.0"
  }
 },
 "nbformat": 4,
 "nbformat_minor": 5
}
